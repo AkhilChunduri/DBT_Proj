{
 "cells": [
  {
   "cell_type": "code",
   "execution_count": 1,
   "id": "cd0b0b89-92b1-4a61-a493-88742dd1afca",
   "metadata": {},
   "outputs": [],
   "source": [
    "import nltk\n",
    "import string\n",
    "import csv\n",
    "from nltk.tokenize import word_tokenize\n",
    "from collections import Counter"
   ]
  },
  {
   "cell_type": "code",
   "execution_count": 2,
   "id": "9b0f5e97-c7fa-4785-8de9-69223a99cb47",
   "metadata": {},
   "outputs": [
    {
     "name": "stderr",
     "output_type": "stream",
     "text": [
      "[nltk_data] Downloading package punkt to\n",
      "[nltk_data]     C:\\Users\\akhil\\AppData\\Roaming\\nltk_data...\n",
      "[nltk_data]   Unzipping tokenizers\\punkt.zip.\n"
     ]
    },
    {
     "data": {
      "text/plain": [
       "True"
      ]
     },
     "execution_count": 2,
     "metadata": {},
     "output_type": "execute_result"
    }
   ],
   "source": [
    "# Download NLTK tokenizers if you haven't already\n",
    "nltk.download('punkt')"
   ]
  },
  {
   "cell_type": "code",
   "execution_count": 3,
   "id": "148b1480-c814-4b5a-9695-96d1d3c8bdd3",
   "metadata": {},
   "outputs": [],
   "source": [
    "# Open and read the text file\n",
    "file_path = 'The problems of Philosophy.txt'\n",
    "with open(file_path, 'r', encoding='utf-8') as file:\n",
    "    text = file.read()"
   ]
  },
  {
   "cell_type": "code",
   "execution_count": 4,
   "id": "1e6bd2a9-867e-4493-981f-ca90729d8e2d",
   "metadata": {},
   "outputs": [],
   "source": [
    "# Tokenize the text into words\n",
    "words = word_tokenize(text)"
   ]
  },
  {
   "cell_type": "code",
   "execution_count": 5,
   "id": "9b8c3582-9c41-44f7-93fb-bfd05f563420",
   "metadata": {},
   "outputs": [],
   "source": [
    "# Function to remove punctuation except when part of a word\n",
    "def remove_punctuation(word):\n",
    "    return ''.join([char for char in word if char.isalpha() or char == \"'\"])"
   ]
  },
  {
   "cell_type": "code",
   "execution_count": 6,
   "id": "13f17fbf-131b-4632-b9f7-a0cfa59dec83",
   "metadata": {},
   "outputs": [],
   "source": [
    "# Remove punctuation from words and convert to lowercase\n",
    "filtered_words = [remove_punctuation(word.lower()) for word in words]"
   ]
  },
  {
   "cell_type": "code",
   "execution_count": 7,
   "id": "764d2ae3-f61f-434d-afff-c3509279fe9b",
   "metadata": {},
   "outputs": [],
   "source": [
    "# Count word frequencies\n",
    "word_freq = Counter(filtered_words)"
   ]
  },
  {
   "cell_type": "code",
   "execution_count": 8,
   "id": "9d412fe8-687b-4e2a-b873-320c00bcf3f8",
   "metadata": {},
   "outputs": [],
   "source": [
    "# Sort words alphabetically\n",
    "sorted_words = sorted(word_freq.items())"
   ]
  },
  {
   "cell_type": "code",
   "execution_count": 9,
   "id": "d6504cb9-0722-4ebb-9e3b-cca73a1f8515",
   "metadata": {},
   "outputs": [],
   "source": [
    "# Write the sorted words and frequencies to a CSV file\n",
    "csv_filename = 'all_words.csv'\n",
    "with open(csv_filename, 'w', newline='', encoding='utf-8') as csvfile:\n",
    "    csv_writer = csv.writer(csvfile)\n",
    "    csv_writer.writerow(['Word', 'Frequency'])  # Write header row\n",
    "    csv_writer.writerows(sorted_words)  # Write word-frequency pairs"
   ]
  },
  {
   "cell_type": "code",
   "execution_count": 10,
   "id": "2c9fffd9-a030-4781-9734-2bce3a75c343",
   "metadata": {},
   "outputs": [
    {
     "name": "stdout",
     "output_type": "stream",
     "text": [
      "Word frequencies have been saved to all_words.csv.\n"
     ]
    }
   ],
   "source": [
    "print(f\"Word frequencies have been saved to {csv_filename}.\")"
   ]
  },
  {
   "cell_type": "code",
   "execution_count": null,
   "id": "cd6be644-e54e-4cd1-a582-03e7b691f9e5",
   "metadata": {},
   "outputs": [],
   "source": []
  }
 ],
 "metadata": {
  "kernelspec": {
   "display_name": "Python 3 (ipykernel)",
   "language": "python",
   "name": "python3"
  },
  "language_info": {
   "codemirror_mode": {
    "name": "ipython",
    "version": 3
   },
   "file_extension": ".py",
   "mimetype": "text/x-python",
   "name": "python",
   "nbconvert_exporter": "python",
   "pygments_lexer": "ipython3",
   "version": "3.11.1"
  }
 },
 "nbformat": 4,
 "nbformat_minor": 5
}
